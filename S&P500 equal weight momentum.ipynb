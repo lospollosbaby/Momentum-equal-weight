{
 "cells": [
  {
   "cell_type": "code",
   "execution_count": 13,
   "id": "2f7541c1-403e-4d87-ac3b-12a4e7c1f904",
   "metadata": {
    "editable": true,
    "slideshow": {
     "slide_type": ""
    },
    "tags": []
   },
   "outputs": [],
   "source": [
    "import pandas as pd\n",
    "import numpy as np\n",
    "import yfinance as yf\n",
    "import xlsxwriter\n",
    "import tensorflow as tf\n",
    "from tensorflow.keras.models import Sequential\n",
    "from tensorflow.keras.layers import LSTM, Dense, Dropout\n",
    "from sqlalchemy import create_engine\n"
   ]
  },
  {
   "cell_type": "code",
   "execution_count": 84,
   "id": "be766958-ec5e-4b79-8356-b4b9bc1438ee",
   "metadata": {},
   "outputs": [
    {
     "name": "stdout",
     "output_type": "stream",
     "text": [
      "['AAPL', 'MSFT', 'NVDA', 'GOOGL', 'GOOG', 'AMZN', 'META', 'BRK-B', 'LLY', 'AVGO']\n"
     ]
    }
   ],
   "source": [
    "file_path = '/Users/apple/Desktop/Data Science/sp500_companies.csv'\n",
    "tickers = pd.read_csv(file_path)['Symbol'].tolist()\n",
    "print(tickers[:10])"
   ]
  },
  {
   "cell_type": "code",
   "execution_count": 86,
   "id": "9e55e022-f55a-40e5-897d-93da897166ea",
   "metadata": {
    "editable": true,
    "slideshow": {
     "slide_type": ""
    },
    "tags": []
   },
   "outputs": [
    {
     "name": "stdout",
     "output_type": "stream",
     "text": [
      "Fetching data for AAPL...\n"
     ]
    },
    {
     "name": "stderr",
     "output_type": "stream",
     "text": [
      "[*********************100%%**********************]  1 of 1 completed\n",
      "[*********************100%%**********************]  1 of 1 completed\n"
     ]
    },
    {
     "name": "stdout",
     "output_type": "stream",
     "text": [
      "Data for AAPL fetched successfully.\n",
      "                  Open        High         Low       Close   Adj Close  \\\n",
      "Date                                                                     \n",
      "2023-01-03  130.279999  130.899994  124.169998  125.070000  124.048042   \n",
      "2023-01-04  126.889999  128.660004  125.080002  126.360001  125.327507   \n",
      "2023-01-05  127.129997  127.769997  124.760002  125.019997  123.998459   \n",
      "2023-01-06  126.010002  130.289993  124.889999  129.619995  128.560852   \n",
      "2023-01-09  130.470001  133.410004  129.889999  130.149994  129.086533   \n",
      "\n",
      "               Volume  \n",
      "Date                   \n",
      "2023-01-03  112117500  \n",
      "2023-01-04   89113600  \n",
      "2023-01-05   80962700  \n",
      "2023-01-06   87754700  \n",
      "2023-01-09   70790800  \n",
      "Fetching data for MSFT...\n",
      "Data for MSFT fetched successfully.\n",
      "                  Open        High         Low       Close   Adj Close  \\\n",
      "Date                                                                     \n",
      "2023-01-03  243.080002  245.750000  237.399994  239.580002  236.609222   \n",
      "2023-01-04  232.279999  232.869995  225.960007  229.100006  226.259186   \n",
      "2023-01-05  227.199997  227.550003  221.759995  222.309998  219.553360   \n",
      "2023-01-06  223.000000  225.759995  219.350006  224.929993  222.140869   \n",
      "2023-01-09  226.449997  231.240005  226.410004  227.119995  224.303726   \n",
      "\n",
      "              Volume  \n",
      "Date                  \n",
      "2023-01-03  25740000  \n",
      "2023-01-04  50623400  \n",
      "2023-01-05  39585600  \n",
      "2023-01-06  43613600  \n",
      "2023-01-09  27369800  \n",
      "Fetching data for NVDA...\n"
     ]
    },
    {
     "name": "stderr",
     "output_type": "stream",
     "text": [
      "[*********************100%%**********************]  1 of 1 completed\n",
      "[*********************100%%**********************]  1 of 1 completed\n"
     ]
    },
    {
     "name": "stdout",
     "output_type": "stream",
     "text": [
      "Data for NVDA fetched successfully.\n",
      "              Open    High     Low   Close  Adj Close     Volume\n",
      "Date                                                            \n",
      "2023-01-03  14.851  14.996  14.096  14.315  14.306804  401277000\n",
      "2023-01-04  14.567  14.853  14.241  14.749  14.740556  431324000\n",
      "2023-01-05  14.491  14.564  14.148  14.265  14.256834  389168000\n",
      "2023-01-06  14.474  15.010  14.034  14.859  14.850493  405044000\n",
      "2023-01-09  15.284  16.056  15.141  15.628  15.619053  504231000\n",
      "Fetching data for GOOGL...\n",
      "Data for GOOGL fetched successfully.\n",
      "                 Open       High        Low      Close  Adj Close    Volume\n",
      "Date                                                                       \n",
      "2023-01-03  89.589996  91.050003  88.519997  89.120003  89.017838  28131200\n",
      "2023-01-04  90.349998  90.650002  87.269997  88.080002  87.979027  34854800\n",
      "2023-01-05  87.470001  87.570000  85.900002  86.199997  86.101181  27194400\n",
      "2023-01-06  86.790001  87.690002  84.860001  87.339996  87.239868  41381500\n",
      "2023-01-09  88.360001  90.050003  87.860001  88.019997  87.919090  29003900\n",
      "Fetching data for GOOG...\n"
     ]
    },
    {
     "name": "stderr",
     "output_type": "stream",
     "text": [
      "[*********************100%%**********************]  1 of 1 completed\n",
      "[*********************100%%**********************]  1 of 1 completed\n"
     ]
    },
    {
     "name": "stdout",
     "output_type": "stream",
     "text": [
      "Data for GOOG fetched successfully.\n",
      "                 Open       High        Low      Close  Adj Close    Volume\n",
      "Date                                                                       \n",
      "2023-01-03  89.830002  91.550003  89.019997  89.699997  89.598038  20738500\n",
      "2023-01-04  91.010002  91.239998  87.800003  88.709999  88.609169  27046500\n",
      "2023-01-05  88.070000  88.209999  86.559998  86.769997  86.671371  23136100\n",
      "2023-01-06  87.360001  88.470001  85.570000  88.160004  88.059799  26612600\n",
      "2023-01-09  89.195000  90.830002  88.580002  88.800003  88.699066  22996700\n",
      "Fetching data for AMZN...\n",
      "Data for AMZN fetched successfully.\n",
      "                 Open       High        Low      Close  Adj Close    Volume\n",
      "Date                                                                       \n",
      "2023-01-03  85.459999  86.959999  84.209999  85.820000  85.820000  76706000\n",
      "2023-01-04  86.550003  86.980003  83.360001  85.139999  85.139999  68885100\n",
      "2023-01-05  85.330002  85.419998  83.070000  83.120003  83.120003  67930800\n",
      "2023-01-06  83.029999  86.400002  81.430000  86.080002  86.080002  83303400\n",
      "2023-01-09  87.459999  89.480003  87.080002  87.360001  87.360001  65266100\n",
      "Fetching data for META...\n"
     ]
    },
    {
     "name": "stderr",
     "output_type": "stream",
     "text": [
      "[*********************100%%**********************]  1 of 1 completed\n",
      "[*********************100%%**********************]  1 of 1 completed\n"
     ]
    },
    {
     "name": "stdout",
     "output_type": "stream",
     "text": [
      "Data for META fetched successfully.\n",
      "                  Open        High         Low       Close   Adj Close  \\\n",
      "Date                                                                     \n",
      "2023-01-03  122.820000  126.370003  122.279999  124.739998  124.484192   \n",
      "2023-01-04  127.379997  129.050003  125.849998  127.370003  127.108803   \n",
      "2023-01-05  126.129997  128.520004  124.540001  126.940002  126.679688   \n",
      "2023-01-06  128.970001  130.330002  126.040001  130.020004  129.753372   \n",
      "2023-01-09  131.160004  132.949997  129.279999  129.470001  129.204498   \n",
      "\n",
      "              Volume  \n",
      "Date                  \n",
      "2023-01-03  35528500  \n",
      "2023-01-04  32397100  \n",
      "2023-01-05  25447100  \n",
      "2023-01-06  27584500  \n",
      "2023-01-09  26649100  \n",
      "Fetching data for BRK-B...\n",
      "Data for BRK-B fetched successfully.\n",
      "                  Open        High         Low       Close   Adj Close  \\\n",
      "Date                                                                     \n",
      "2023-01-03  310.070007  312.390015  307.380005  309.910004  309.910004   \n",
      "2023-01-04  312.000000  316.890015  311.250000  314.549988  314.549988   \n",
      "2023-01-05  313.570007  314.230011  310.000000  312.899994  312.899994   \n",
      "2023-01-06  315.000000  320.160004  313.380005  318.690002  318.690002   \n",
      "2023-01-09  319.019989  320.500000  314.750000  315.529999  315.529999   \n",
      "\n",
      "             Volume  \n",
      "Date                 \n",
      "2023-01-03  3549900  \n",
      "2023-01-04  5121200  \n",
      "2023-01-05  3416300  \n",
      "2023-01-06  3647900  \n",
      "2023-01-09  4397400  \n",
      "Fetching data for LLY...\n"
     ]
    },
    {
     "name": "stderr",
     "output_type": "stream",
     "text": [
      "[*********************100%%**********************]  1 of 1 completed\n"
     ]
    },
    {
     "name": "stdout",
     "output_type": "stream",
     "text": [
      "Data for LLY fetched successfully.\n",
      "                  Open        High         Low       Close   Adj Close  \\\n",
      "Date                                                                     \n",
      "2023-01-03  366.260010  369.000000  361.459991  364.989990  360.178711   \n",
      "2023-01-04  364.640015  367.119995  360.339996  363.100006  358.313690   \n",
      "2023-01-05  360.950012  361.489990  352.959991  358.920013  354.188751   \n",
      "2023-01-06  360.000000  366.700012  357.579987  362.940002  358.155762   \n",
      "2023-01-09  364.000000  364.970001  348.790009  349.829987  345.218597   \n",
      "\n",
      "             Volume  \n",
      "Date                 \n",
      "2023-01-03  2006700  \n",
      "2023-01-04  1886200  \n",
      "2023-01-05  2008500  \n",
      "2023-01-06  2131300  \n",
      "2023-01-09  2980600  \n",
      "Fetching data for AVGO...\n"
     ]
    },
    {
     "name": "stderr",
     "output_type": "stream",
     "text": [
      "[*********************100%%**********************]  1 of 1 completed"
     ]
    },
    {
     "name": "stdout",
     "output_type": "stream",
     "text": [
      "Data for AVGO fetched successfully.\n",
      "                 Open       High        Low      Close  Adj Close    Volume\n",
      "Date                                                                       \n",
      "2023-01-03  56.500000  56.757000  55.078999  55.348000  53.716278  20173000\n",
      "2023-01-04  56.299000  56.816002  55.603001  56.023998  54.372349  17074000\n",
      "2023-01-05  55.570999  55.984001  55.112000  55.501999  53.865738  16277000\n",
      "2023-01-06  56.312000  59.099998  56.230000  58.842999  57.108242  35261000\n",
      "2023-01-09  59.230000  60.167000  56.056000  57.688999  55.988266  37739000\n"
     ]
    },
    {
     "name": "stderr",
     "output_type": "stream",
     "text": [
      "\n"
     ]
    }
   ],
   "source": [
    "def fetch_stock_data(ticker, start_date, end_date):\n",
    "    print(f\"Fetching data for {ticker}...\")\n",
    "    stock_data = yf.download(ticker, start=start_date, end=end_date)\n",
    "    print(f\"Data for {ticker} fetched successfully.\")\n",
    "    return stock_data\n",
    "\n",
    "# Example usage\n",
    "start_date = '2023-01-01'\n",
    "end_date = '2024-01-01'\n",
    "\n",
    "# Fetch data for a sample of tickers to verify\n",
    "for ticker in tickers[:10]:\n",
    "    stock_data = fetch_stock_data(ticker, start_date, end_date)\n",
    "    print(stock_data.head())  # Print the first few rows of the data to verify"
   ]
  },
  {
   "cell_type": "code",
   "execution_count": 90,
   "id": "54b7d5e5-2867-453a-9d60-28652d07e09d",
   "metadata": {
    "editable": true,
    "slideshow": {
     "slide_type": ""
    },
    "tags": []
   },
   "outputs": [
    {
     "name": "stderr",
     "output_type": "stream",
     "text": [
      "[*********************100%%**********************]  1 of 1 completed"
     ]
    },
    {
     "name": "stdout",
     "output_type": "stream",
     "text": [
      "Fetching data for AAPL...\n",
      "Data for AAPL fetched successfully.\n",
      "                  Open        High         Low       Close   Adj Close  \\\n",
      "Date                                                                     \n",
      "2023-01-03  130.279999  130.899994  124.169998  125.070000  124.048042   \n",
      "2023-01-04  126.889999  128.660004  125.080002  126.360001  125.327507   \n",
      "2023-01-05  127.129997  127.769997  124.760002  125.019997  123.998459   \n",
      "2023-01-06  126.010002  130.289993  124.889999  129.619995  128.560852   \n",
      "2023-01-09  130.470001  133.410004  129.889999  130.149994  129.086533   \n",
      "\n",
      "               Volume    Return  \n",
      "Date                             \n",
      "2023-01-03  112117500       NaN  \n",
      "2023-01-04   89113600  0.010314  \n",
      "2023-01-05   80962700 -0.010605  \n",
      "2023-01-06   87754700  0.036794  \n",
      "2023-01-09   70790800  0.004089  \n"
     ]
    },
    {
     "name": "stderr",
     "output_type": "stream",
     "text": [
      "\n"
     ]
    }
   ],
   "source": [
    "def calculate_returns(stock_data):\n",
    "    stock_data['Return'] = stock_data['Adj Close'].pct_change()\n",
    "    return stock_data\n",
    "\n",
    "# Example usage\n",
    "# Process the data for the first ticker as an example\n",
    "sample_stock_data = fetch_stock_data(tickers[0], start_date, end_date)\n",
    "returns_df = calculate_returns(sample_stock_data)\n",
    "print(returns_df.head())  # Print the first few rows to verify"
   ]
  },
  {
   "cell_type": "code",
   "execution_count": 92,
   "id": "1da61f1e-97e1-4fa6-9075-67091199072e",
   "metadata": {
    "editable": true,
    "slideshow": {
     "slide_type": ""
    },
    "tags": []
   },
   "outputs": [
    {
     "name": "stdout",
     "output_type": "stream",
     "text": [
      "Dataset created successfully.\n",
      "X shape: (189, 60, 1), y shape: (189,)\n"
     ]
    }
   ],
   "source": [
    "def create_dataset(data, time_step=60):\n",
    "    X, y = [], []\n",
    "    for i in range(len(data) - time_step - 1):\n",
    "        X.append(data[i:(i + time_step), 0])\n",
    "        y.append(data[i + time_step, 0])\n",
    "    return np.array(X), np.array(y)\n",
    "\n",
    "# Prepare the dataset\n",
    "close_prices = returns_df[['Adj Close']].values\n",
    "scaled_data = (close_prices - close_prices.min()) / (close_prices.max() - close_prices.min())\n",
    "time_step = 60\n",
    "X, y = create_dataset(scaled_data, time_step)\n",
    "\n",
    "# Reshape input to be [samples, time steps, features]\n",
    "X = X.reshape(X.shape[0], X.shape[1], 1)\n",
    "\n",
    "print(\"Dataset created successfully.\")\n",
    "print(f\"X shape: {X.shape}, y shape: {y.shape}\")"
   ]
  },
  {
   "cell_type": "code",
   "execution_count": 94,
   "id": "e1974a01-8f01-421a-96d3-7f5af4f97601",
   "metadata": {},
   "outputs": [
    {
     "name": "stdout",
     "output_type": "stream",
     "text": [
      "Model created successfully.\n"
     ]
    },
    {
     "name": "stderr",
     "output_type": "stream",
     "text": [
      "/opt/anaconda3/lib/python3.12/site-packages/keras/src/layers/rnn/rnn.py:204: UserWarning: Do not pass an `input_shape`/`input_dim` argument to a layer. When using Sequential models, prefer using an `Input(shape)` object as the first layer in the model instead.\n",
      "  super().__init__(**kwargs)\n"
     ]
    }
   ],
   "source": [
    "def create_model(input_shape):\n",
    "    model = Sequential()\n",
    "    model.add(LSTM(50, return_sequences=True, input_shape=input_shape))\n",
    "    model.add(LSTM(50))\n",
    "    model.add(Dropout(0.2))\n",
    "    model.add(Dense(1))\n",
    "    model.compile(optimizer='adam', loss='mean_squared_error')\n",
    "    return model\n",
    "\n",
    "# Example usage\n",
    "input_shape = (time_step, 1)\n",
    "model = create_model(input_shape)\n",
    "print(\"Model created successfully.\")"
   ]
  },
  {
   "cell_type": "code",
   "execution_count": 47,
   "id": "64e73a50-f7fc-44c9-bc48-875d4e08dfdf",
   "metadata": {},
   "outputs": [
    {
     "name": "stdout",
     "output_type": "stream",
     "text": [
      "Epoch 1/10\n",
      "\u001b[1m4/4\u001b[0m \u001b[32m━━━━━━━━━━━━━━━━━━━━\u001b[0m\u001b[37m\u001b[0m \u001b[1m1s\u001b[0m 58ms/step - loss: 0.1566 - val_loss: 0.0055\n",
      "Epoch 2/10\n",
      "\u001b[1m4/4\u001b[0m \u001b[32m━━━━━━━━━━━━━━━━━━━━\u001b[0m\u001b[37m\u001b[0m \u001b[1m0s\u001b[0m 21ms/step - loss: 0.0262 - val_loss: 0.0832\n",
      "Epoch 3/10\n",
      "\u001b[1m4/4\u001b[0m \u001b[32m━━━━━━━━━━━━━━━━━━━━\u001b[0m\u001b[37m\u001b[0m \u001b[1m0s\u001b[0m 20ms/step - loss: 0.0263 - val_loss: 0.0449\n",
      "Epoch 4/10\n",
      "\u001b[1m4/4\u001b[0m \u001b[32m━━━━━━━━━━━━━━━━━━━━\u001b[0m\u001b[37m\u001b[0m \u001b[1m0s\u001b[0m 20ms/step - loss: 0.0133 - val_loss: 0.0181\n",
      "Epoch 5/10\n",
      "\u001b[1m4/4\u001b[0m \u001b[32m━━━━━━━━━━━━━━━━━━━━\u001b[0m\u001b[37m\u001b[0m \u001b[1m0s\u001b[0m 19ms/step - loss: 0.0116 - val_loss: 0.0144\n",
      "Epoch 6/10\n",
      "\u001b[1m4/4\u001b[0m \u001b[32m━━━━━━━━━━━━━━━━━━━━\u001b[0m\u001b[37m\u001b[0m \u001b[1m0s\u001b[0m 20ms/step - loss: 0.0147 - val_loss: 0.0209\n",
      "Epoch 7/10\n",
      "\u001b[1m4/4\u001b[0m \u001b[32m━━━━━━━━━━━━━━━━━━━━\u001b[0m\u001b[37m\u001b[0m \u001b[1m0s\u001b[0m 20ms/step - loss: 0.0088 - val_loss: 0.0308\n",
      "Epoch 8/10\n",
      "\u001b[1m4/4\u001b[0m \u001b[32m━━━━━━━━━━━━━━━━━━━━\u001b[0m\u001b[37m\u001b[0m \u001b[1m0s\u001b[0m 21ms/step - loss: 0.0094 - val_loss: 0.0360\n",
      "Epoch 9/10\n",
      "\u001b[1m4/4\u001b[0m \u001b[32m━━━━━━━━━━━━━━━━━━━━\u001b[0m\u001b[37m\u001b[0m \u001b[1m0s\u001b[0m 22ms/step - loss: 0.0088 - val_loss: 0.0311\n",
      "Epoch 10/10\n",
      "\u001b[1m4/4\u001b[0m \u001b[32m━━━━━━━━━━━━━━━━━━━━\u001b[0m\u001b[37m\u001b[0m \u001b[1m0s\u001b[0m 20ms/step - loss: 0.0092 - val_loss: 0.0250\n",
      "Model training completed.\n"
     ]
    },
    {
     "data": {
      "image/png": "[encoded data removed]",
      "text/plain": [
       "<Figure size 640x480 with 1 Axes>"
      ]
     },
     "metadata": {},
     "output_type": "display_data"
    }
   ],
   "source": [
    "# Split the data into training and testing sets\n",
    "train_size = int(len(X) * 0.8)\n",
    "test_size = len(X) - train_size\n",
    "X_train, X_test = X[:train_size], X[train_size:]\n",
    "y_train, y_test = y[:train_size], y[train_size:]\n",
    "\n",
    "# Train the model\n",
    "def train_model(model, X_train, y_train, epochs=10, batch_size=32):\n",
    "    history = model.fit(X_train, y_train, epochs=epochs, batch_size=batch_size, validation_split=0.2)\n",
    "    print(\"Model training completed.\")\n",
    "    return history\n",
    "\n",
    "# Example usage\n",
    "history = train_model(model, X_train, y_train, epochs=10, batch_size=32)\n",
    "\n",
    "# Print training and validation loss\n",
    "import matplotlib.pyplot as plt\n",
    "\n",
    "plt.plot(history.history['loss'], label='Training Loss')\n",
    "plt.plot(history.history['val_loss'], label='Validation Loss')\n",
    "plt.legend()\n",
    "plt.show()"
   ]
  },
  {
   "cell_type": "code",
   "execution_count": 96,
   "id": "2e434b10-5fce-4c8d-bac0-dc0a9c623585",
   "metadata": {},
   "outputs": [
    {
     "name": "stdout",
     "output_type": "stream",
     "text": [
      "\u001b[1m2/2\u001b[0m \u001b[32m━━━━━━━━━━━━━━━━━━━━\u001b[0m\u001b[37m\u001b[0m \u001b[1m1s\u001b[0m 238ms/step\n",
      "Portfolio constructed successfully.\n",
      "Top 10 stocks in the portfolio: ['AAPL', 'MSFT', 'NVDA', 'GOOGL', 'GOOG', 'AMZN', 'META', 'BRK-B', 'LLY', 'AVGO']\n"
     ]
    }
   ],
   "source": [
    "def construct_portfolio(predictions, tickers):\n",
    "    # Ensure predictions is a 1-dimensional array\n",
    "    predictions = predictions.flatten()\n",
    "    \n",
    "    # Get the indices of the top 50 predicted values\n",
    "    top_indices = predictions.argsort()[-50:][::-1]  # Sort and take the top 50, then reverse to get the highest first\n",
    "    \n",
    "    # Construct the portfolio using the top indices\n",
    "    portfolio = [tickers[i] for i in top_indices]\n",
    "    print(\"Portfolio constructed successfully.\")\n",
    "    return portfolio\n",
    "\n",
    "# Generate predictions\n",
    "predictions = model.predict(X_test)\n",
    "\n",
    "# Construct portfolio\n",
    "portfolio = construct_portfolio(predictions, tickers[:len(predictions)])  # Use first 'len(predictions)' tickers\n",
    "print(\"Top 10 stocks in the portfolio:\", portfolio[:10])"
   ]
  },
  {
   "cell_type": "code",
   "execution_count": 98,
   "id": "bb037f8d-4cce-4689-9311-1dcb4601eaaa",
   "metadata": {},
   "outputs": [
    {
     "name": "stdout",
     "output_type": "stream",
     "text": [
      "Report generated successfully: portfolio_report.xlsx\n"
     ]
    }
   ],
   "source": [
    "def generate_report(portfolio, file_name='portfolio_report.xlsx'):\n",
    "    workbook = xlsxwriter.Workbook(file_name)\n",
    "    worksheet = workbook.add_worksheet()\n",
    "\n",
    "    row = 0\n",
    "    col = 0\n",
    "    for stock in portfolio:\n",
    "        worksheet.write(row, col, stock)\n",
    "        row += 1\n",
    "\n",
    "    workbook.close()\n",
    "    print(f\"Report generated successfully: {file_name}\")\n",
    "\n",
    "# Example usage\n",
    "generate_report(portfolio)"
   ]
  },
  {
   "cell_type": "code",
   "execution_count": 100,
   "id": "25bcfc4e-c531-41a0-8325-761f7f04696d",
   "metadata": {},
   "outputs": [
    {
     "name": "stdout",
     "output_type": "stream",
     "text": [
      "Report generated successfully: /Users/apple/Desktop/Data Science/portfolio_report.xlsx\n"
     ]
    }
   ],
   "source": [
    "import os\n",
    "\n",
    "def generate_report(portfolio, file_name='portfolio_report.xlsx', output_dir='/Users/apple/Desktop/Data Science/'):\n",
    "    # Ensure the output directory exists\n",
    "    if not os.path.exists(output_dir):\n",
    "        os.makedirs(output_dir)\n",
    "    \n",
    "    # Full path to the file\n",
    "    file_path = os.path.join(output_dir, file_name)\n",
    "    \n",
    "    # Create the workbook and add a worksheet\n",
    "    workbook = xlsxwriter.Workbook(file_path)\n",
    "    worksheet = workbook.add_worksheet()\n",
    "\n",
    "    # Write the portfolio to the worksheet\n",
    "    row = 0\n",
    "    col = 0\n",
    "    for stock in portfolio:\n",
    "        worksheet.write(row, col, stock)\n",
    "        row += 1\n",
    "\n",
    "    # Close the workbook\n",
    "    workbook.close()\n",
    "    print(f\"Report generated successfully: {file_path}\")\n",
    "    return file_path\n",
    "\n",
    "# Example usage\n",
    "file_path = generate_report(portfolio)\n"
   ]
  },
  {
   "cell_type": "code",
   "execution_count": 106,
   "id": "b8b2ede6-0981-4149-8936-9503fdf6d158",
   "metadata": {},
   "outputs": [
    {
     "name": "stdout",
     "output_type": "stream",
     "text": [
      "Tickers loaded successfully.\n",
      "Filtered Portfolio: ['GOOGL', 'GOOG', 'AMZN', 'ABBV', 'ADBE', 'AMD', 'ACN', 'ABT', 'AMGN', 'AXP', 'AMT', 'ADI', 'MO', 'AON', 'APH', 'MMM', 'APD', 'AFL', 'AEP', 'ALL', 'AIG', 'A', 'AMP', 'AME', 'AWK', 'ANSS', 'AEE', 'ARE', 'ALGN', 'LNT', 'AKAM', 'AES', 'AOS', 'ALLE', 'APA', 'ALB', 'AAL']\n"
     ]
    },
    {
     "name": "stderr",
     "output_type": "stream",
     "text": [
      "[*********************100%%**********************]  1 of 1 completed\n",
      "[*********************100%%**********************]  1 of 1 completed\n",
      "[*********************100%%**********************]  1 of 1 completed\n",
      "[*********************100%%**********************]  1 of 1 completed\n",
      "[*********************100%%**********************]  1 of 1 completed\n",
      "[*********************100%%**********************]  1 of 1 completed\n",
      "[*********************100%%**********************]  1 of 1 completed\n",
      "[*********************100%%**********************]  1 of 1 completed\n",
      "[*********************100%%**********************]  1 of 1 completed\n",
      "[*********************100%%**********************]  1 of 1 completed\n",
      "[*********************100%%**********************]  1 of 1 completed\n",
      "[*********************100%%**********************]  1 of 1 completed\n",
      "[*********************100%%**********************]  1 of 1 completed\n",
      "[*********************100%%**********************]  1 of 1 completed\n",
      "[*********************100%%**********************]  1 of 1 completed\n",
      "[*********************100%%**********************]  1 of 1 completed\n",
      "[*********************100%%**********************]  1 of 1 completed\n",
      "[*********************100%%**********************]  1 of 1 completed\n",
      "[*********************100%%**********************]  1 of 1 completed\n",
      "[*********************100%%**********************]  1 of 1 completed\n",
      "[*********************100%%**********************]  1 of 1 completed\n",
      "[*********************100%%**********************]  1 of 1 completed\n",
      "[*********************100%%**********************]  1 of 1 completed\n",
      "[*********************100%%**********************]  1 of 1 completed\n",
      "[*********************100%%**********************]  1 of 1 completed\n",
      "[*********************100%%**********************]  1 of 1 completed\n",
      "[*********************100%%**********************]  1 of 1 completed\n",
      "[*********************100%%**********************]  1 of 1 completed\n",
      "[*********************100%%**********************]  1 of 1 completed\n",
      "[*********************100%%**********************]  1 of 1 completed\n",
      "[*********************100%%**********************]  1 of 1 completed\n",
      "[*********************100%%**********************]  1 of 1 completed\n",
      "[*********************100%%**********************]  1 of 1 completed\n",
      "[*********************100%%**********************]  1 of 1 completed\n",
      "[*********************100%%**********************]  1 of 1 completed\n",
      "[*********************100%%**********************]  1 of 1 completed\n",
      "[*********************100%%**********************]  1 of 1 completed"
     ]
    },
    {
     "name": "stdout",
     "output_type": "stream",
     "text": [
      "{'GOOGL': 166.66000366210938, 'GOOG': 168.39999389648438, 'AMZN': 167.89999389648438, 'ABBV': 189.2899932861328, 'ADBE': 526.1699829101562, 'AMD': 132.5, 'ACN': 323.1499938964844, 'ABT': 111.30999755859375, 'AMGN': 333.989990234375, 'AXP': 232.27999877929688, 'AMT': 234.63999938964844, 'ADI': 207.9600067138672, 'MO': 51.06999969482422, 'AON': 330.2099914550781, 'APH': 59.130001068115234, 'MMM': 125.23999786376953, 'APD': 281.739990234375, 'AFL': 99.23999786376953, 'AEP': 101.79000091552734, 'ALL': 176.82000732421875, 'AIG': 71.97000122070312, 'A': 139.0399932861328, 'AMP': 402.6099853515625, 'AME': 152.74000549316406, 'AWK': 147.35000610351562, 'ANSS': 302.2200012207031, 'AEE': 82.52999877929688, 'ARE': 113.36000061035156, 'ALGN': 213.49000549316406, 'LNT': 57.11000061035156, 'AKAM': 94.55999755859375, 'AES': 17.1299991607666, 'AOS': 82.4000015258789, 'ALLE': 129.5399932861328, 'APA': 28.59000015258789, 'ALB': 86.98999786376953, 'AAL': 9.630000114440918}\n",
      "{'GOOGL': 17.0, 'GOOG': 17.0, 'AMZN': 17.0, 'ABBV': 15.0, 'ADBE': 5.0, 'AMD': 22.0, 'ACN': 9.0, 'ABT': 26.0, 'AMGN': 8.0, 'AXP': 12.0, 'AMT': 12.0, 'ADI': 14.0, 'MO': 58.0, 'AON': 9.0, 'APH': 50.0, 'MMM': 23.0, 'APD': 10.0, 'AFL': 29.0, 'AEP': 29.0, 'ALL': 16.0, 'AIG': 41.0, 'A': 21.0, 'AMP': 7.0, 'AME': 19.0, 'AWK': 20.0, 'ANSS': 9.0, 'AEE': 36.0, 'ARE': 26.0, 'ALGN': 13.0, 'LNT': 52.0, 'AKAM': 31.0, 'AES': 173.0, 'AOS': 36.0, 'ALLE': 22.0, 'APA': 103.0, 'ALB': 34.0, 'AAL': 308.0}\n",
      "Detailed report generated successfully: /Users/apple/Desktop/Data Science/portfolio_report.xlsx\n"
     ]
    },
    {
     "name": "stderr",
     "output_type": "stream",
     "text": [
      "\n"
     ]
    }
   ],
   "source": [
    "import pandas as pd\n",
    "import numpy as np\n",
    "import yfinance as yf\n",
    "import xlsxwriter\n",
    "import os\n",
    "\n",
    "# Load S&P 500 ticker names\n",
    "file_path = '/Users/apple/Desktop/Data Science/sp500_companies.csv'\n",
    "tickers = pd.read_csv(file_path)['Symbol'].tolist()\n",
    "print(\"Tickers loaded successfully.\")\n",
    "\n",
    "# Define functions\n",
    "def fetch_current_prices(tickers):\n",
    "    prices = {}\n",
    "    for ticker in tickers:\n",
    "        stock_data = yf.download(ticker, period='1d', interval='1d')\n",
    "        if not stock_data.empty:\n",
    "            current_price = stock_data['Close'].iloc[0]  # Use iloc to avoid FutureWarning\n",
    "            prices[ticker] = current_price\n",
    "        else:\n",
    "            print(f\"No data found for {ticker}\")\n",
    "    return prices\n",
    "\n",
    "def calculate_shares_to_buy(current_prices, allocation_per_stock):\n",
    "    shares_to_buy = {}\n",
    "    for ticker, price in current_prices.items():\n",
    "        shares = allocation_per_stock // price\n",
    "        shares_to_buy[ticker] = shares\n",
    "    return shares_to_buy\n",
    "\n",
    "def generate_detailed_report(portfolio, current_prices, shares_to_buy, predictions, file_name='portfolio_report.xlsx', output_dir='/Users/apple/Desktop/Data Science/'):\n",
    "    # Ensure the output directory exists\n",
    "    if not os.path.exists(output_dir):\n",
    "        os.makedirs(output_dir)\n",
    "    \n",
    "    # Full path to the file\n",
    "    file_path = os.path.join(output_dir, file_name)\n",
    "    \n",
    "    # Create the workbook and add a worksheet\n",
    "    workbook = xlsxwriter.Workbook(file_path)\n",
    "    worksheet = workbook.add_worksheet()\n",
    "\n",
    "    # Add headers\n",
    "    headers = ['Ticker', 'Current Price', 'Shares to Buy', 'Prediction']\n",
    "    for col, header in enumerate(headers):\n",
    "        worksheet.write(0, col, header)\n",
    "\n",
    "    # Write the data to the worksheet\n",
    "    for row, ticker in enumerate(portfolio, start=1):\n",
    "        worksheet.write(row, 0, ticker)\n",
    "        worksheet.write(row, 1, current_prices.get(ticker, 'N/A'))\n",
    "        worksheet.write(row, 2, shares_to_buy.get(ticker, 'N/A'))\n",
    "        worksheet.write(row, 3, predictions.get(ticker, 'N/A'))\n",
    "\n",
    "    # Close the workbook\n",
    "    workbook.close()\n",
    "    print(f\"Detailed report generated successfully: {file_path}\")\n",
    "    return file_path\n",
    "\n",
    "# Set the total investment amount\n",
    "total_investment = 110000  # Updated to $110,000\n",
    "\n",
    "# Load actual predictions\n",
    "predictions_file_path = '/Users/apple/Desktop/Data Science/detailed_portfolio_report.csv'\n",
    "predictions_df = pd.read_csv(predictions_file_path)\n",
    "\n",
    "# Extract relevant columns\n",
    "predictions = dict(zip(predictions_df['Ticker'], predictions_df['Prediction']))\n",
    "\n",
    "# Filter portfolio to include only tickers present in the predictions file\n",
    "portfolio = [ticker for ticker in tickers if ticker in predictions]\n",
    "print(f\"Filtered Portfolio: {portfolio}\")\n",
    "\n",
    "# Fetch current prices\n",
    "current_prices = fetch_current_prices(portfolio)\n",
    "print(current_prices)\n",
    "\n",
    "# Calculate the allocation per stock\n",
    "allocation_per_stock = total_investment / len(portfolio)\n",
    "\n",
    "# Calculate shares to buy\n",
    "shares_to_buy = calculate_shares_to_buy(current_prices, allocation_per_stock)\n",
    "print(shares_to_buy)\n",
    "\n",
    "# Generate the detailed report\n",
    "file_path = generate_detailed_report(portfolio, current_prices, shares_to_buy, predictions)"
   ]
  },
  {
   "cell_type": "code",
   "execution_count": null,
   "id": "3a1a96e7-53dd-4897-9634-304903b6f5af",
   "metadata": {
    "editable": true,
    "slideshow": {
     "slide_type": ""
    },
    "tags": []
   },
   "outputs": [],
   "source": []
  },
  {
   "cell_type": "code",
   "execution_count": null,
   "id": "63d0c705-7f28-42ac-84a3-637624e6c771",
   "metadata": {},
   "outputs": [],
   "source": []
  }
 ],
 "metadata": {
  "kernelspec": {
   "display_name": "Python 3 (ipykernel)",
   "language": "python",
   "name": "python3"
  },
  "language_info": {
   "codemirror_mode": {
    "name": "ipython",
    "version": 3
   },
   "file_extension": ".py",
   "mimetype": "text/x-python",
   "name": "python",
   "nbconvert_exporter": "python",
   "pygments_lexer": "ipython3",
   "version": "3.12.4"
  }
 },
 "nbformat": 4,
 "nbformat_minor": 5
}
